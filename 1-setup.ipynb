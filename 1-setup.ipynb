{
 "cells": [
  {
   "cell_type": "code",
   "execution_count": null,
   "metadata": {},
   "outputs": [],
   "source": [
    "import os\n",
    "import weaviate\n",
    "\n",
    "WCD_URL = os.environ['WEAVIATE_SEARCH_URL']       # URL to your WCS instance\n",
    "WCD_KEY = os.environ['WEAVIATE_SEARCH_KEY_WRITE'] # WCS admin key - to recreate the collection and populate with data\n",
    "\n",
    "client = weaviate.connect_to_weaviate_cloud(\n",
    "    cluster_url=WCD_URL,\n",
    "    auth_credentials=weaviate.auth.AuthApiKey(WCD_KEY),\n",
    "    # headers={\n",
    "    #     \"X-OpenAI-Api-Key\": os.getenv(\"WEAVIATE_IO_OPENAI_KEY\")\n",
    "    # },\n",
    "    additional_config=weaviate.config.AdditionalConfig(timeout=(60, 120))\n",
    ")\n",
    "\n",
    "client.is_ready()"
   ]
  },
  {
   "cell_type": "markdown",
   "metadata": {},
   "source": [
    "## Manual recreate collection\n",
    "> only run when working on a personal instance"
   ]
  },
  {
   "cell_type": "code",
   "execution_count": null,
   "metadata": {},
   "outputs": [],
   "source": [
    "from weaviate.classes.config import Configure\n",
    "from weaviate.classes.config import Property, DataType\n",
    "\n",
    "# don't run this unless you have to\n",
    "if(client.collections.exists(\"PageChunk\")):\n",
    "    client.collections.delete(\"PageChunk\")\n",
    "\n",
    "client.collections.create(\n",
    "    name=\"PageChunk\",\n",
    "    # vectorizer_config=Configure.Vectorizer.text2vec_openai(\n",
    "    #     model=\"ada\",\n",
    "    #     model_version=\"002\"\n",
    "    # ),\n",
    "    vectorizer_config=Configure.Vectorizer.text2vec_openai(\n",
    "        model=\"text-embedding-3-small\",\n",
    "        dimensions=1024\n",
    "    ),\n",
    "\n",
    "    generative_config=Configure.Generative.openai(\n",
    "        model=\"gpt-4o-mini\"\n",
    "    )\n",
    "\n",
    "    properties=[\n",
    "        Property(name=\"title\", data_type=DataType.TEXT),\n",
    "        Property(name=\"content\", data_type=DataType.TEXT),\n",
    "        Property(name=\"anchor\", data_type=DataType.TEXT, skip_vectorization=True),\n",
    "        Property(name=\"url\", data_type=DataType.TEXT, skip_vectorization=True),\n",
    "        Property(name=\"typeOfItem\", data_type=DataType.TEXT, skip_vectorization=True),\n",
    "        Property(name=\"order\", data_type=DataType.INT, skip_vectorization=True),\n",
    "        Property(name=\"pageTitle\", data_type=DataType.TEXT, skip_vectorization=True),\n",
    "    ]\n",
    ")"
   ]
  },
  {
   "cell_type": "code",
   "execution_count": null,
   "metadata": {},
   "outputs": [],
   "source": [
    "client.close()"
   ]
  }
 ],
 "metadata": {
  "kernelspec": {
   "display_name": ".venv",
   "language": "python",
   "name": "python3"
  },
  "language_info": {
   "codemirror_mode": {
    "name": "ipython",
    "version": 3
   },
   "file_extension": ".py",
   "mimetype": "text/x-python",
   "name": "python",
   "nbconvert_exporter": "python",
   "pygments_lexer": "ipython3",
   "version": "3.11.8"
  }
 },
 "nbformat": 4,
 "nbformat_minor": 2
}
