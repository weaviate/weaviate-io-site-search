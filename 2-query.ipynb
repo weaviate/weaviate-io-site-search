{
 "cells": [
  {
   "cell_type": "code",
   "execution_count": null,
   "metadata": {},
   "outputs": [],
   "source": [
    "import os\n",
    "import weaviate\n",
    "\n",
    "WCD_URL = os.getenv('WEAVIATE_SEARCH_URL')       # URL to your WCD instance\n",
    "WCD_KEY = os.getenv('WEAVIATE_SEARCH_KEY_QUERY')\n",
    "\n",
    "client = weaviate.connect_to_weaviate_cloud(\n",
    "    cluster_url=WCD_URL,\n",
    "    auth_credentials=weaviate.auth.AuthApiKey(WCD_KEY),\n",
    "    # headers={\n",
    "    #     \"X-OpenAI-Api-Key\": os.environ['WEAVIATE_IO_OPENAI_KEY']\n",
    "    # },\n",
    "    additional_config=weaviate.config.AdditionalConfig(timeout=(60, 120))\n",
    ")\n",
    "\n",
    "client.is_ready()"
   ]
  },
  {
   "cell_type": "code",
   "execution_count": null,
   "metadata": {},
   "outputs": [],
   "source": [
    "client.get_meta()"
   ]
  },
  {
   "cell_type": "markdown",
   "metadata": {},
   "source": [
    "## Check status"
   ]
  },
  {
   "cell_type": "code",
   "execution_count": null,
   "metadata": {},
   "outputs": [],
   "source": [
    "chunks = client.collections.get(\"PageChunk\")\n",
    "chunks.aggregate.over_all()"
   ]
  },
  {
   "cell_type": "code",
   "execution_count": null,
   "metadata": {},
   "outputs": [],
   "source": [
    "response = chunks.query.fetch_objects(\n",
    "    limit=10,\n",
    ")\n",
    "\n",
    "for item in response.objects:\n",
    "    print(item.properties)"
   ]
  },
  {
   "cell_type": "code",
   "execution_count": null,
   "metadata": {},
   "outputs": [],
   "source": [
    "chunks = client.collections.get(\"PageChunk\")\n",
    "response = chunks.query.hybrid(\n",
    "    \"insert many objects\",\n",
    "    query_properties=[\"content\", \"pageTitle\"],\n",
    "    limit=6\n",
    ")\n",
    "\n",
    "for item in response.objects:\n",
    "    print(item.properties)"
   ]
  },
  {
   "cell_type": "code",
   "execution_count": null,
   "metadata": {},
   "outputs": [],
   "source": [
    "chunks = client.collections.get(\"PageChunk\")\n",
    "\n",
    "response = chunks.generate.near_text(\n",
    "    \"insert many objects\",\n",
    "    limit=6,\n",
    "    grouped_task=\"how to delete an object in Weaviate, please only use the provided content\"\n",
    ")\n",
    "\n",
    "print(response.generated)\n",
    "\n",
    "print()\n",
    "print(\"============================================================\")\n",
    "\n",
    "for item in response.objects:\n",
    "    print(item.properties)"
   ]
  },
  {
   "cell_type": "code",
   "execution_count": null,
   "metadata": {},
   "outputs": [],
   "source": [
    "client.close()"
   ]
  }
 ],
 "metadata": {
  "kernelspec": {
   "display_name": ".venv",
   "language": "python",
   "name": "python3"
  },
  "language_info": {
   "codemirror_mode": {
    "name": "ipython",
    "version": 3
   },
   "file_extension": ".py",
   "mimetype": "text/x-python",
   "name": "python",
   "nbconvert_exporter": "python",
   "pygments_lexer": "ipython3",
   "version": "3.11.8"
  }
 },
 "nbformat": 4,
 "nbformat_minor": 2
}
